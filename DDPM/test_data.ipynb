{
 "cells": [
  {
   "cell_type": "code",
   "execution_count": null,
   "id": "f3134d68",
   "metadata": {
    "vscode": {
     "languageId": "plaintext"
    }
   },
   "outputs": [],
   "source": [
    "import torch\n",
    "import numpy as np\n",
    "import matplotlib.pyplot as plt\n",
    "from scipy.stats import pearsonr\n",
    "\n",
    "# Data directory (set to empty string)\n",
    "data_dir = \"\"\n",
    "\n",
    "# Load data\n",
    "z100 = torch.load(f\"{data_dir}/test_z100.pth\")  # [N, C, L]\n",
    "z50 = torch.load(f\"{data_dir}/test_z50.pth\")    # [N, C, L]\n",
    "\n",
    "# Convert to numpy arrays\n",
    "z100 = z100.numpy()\n",
    "z50 = z50.numpy()\n",
    "\n",
    "# Evaluation metrics functions\n",
    "def calculate_mse(x, y):\n",
    "    \"\"\"Calculate Mean Squared Error\"\"\"\n",
    "    return np.mean((x - y) ** 2)\n",
    "\n",
    "def calculate_nmse(x, y):\n",
    "    \"\"\"Calculate Normalized Mean Squared Error\"\"\"\n",
    "    return np.sum((x - y) ** 2) / np.sum(y ** 2)\n",
    "\n",
    "def calculate_pcc(original, reconstructed):\n",
    "    \"\"\"Calculate Pearson Correlation Coefficient\"\"\"\n",
    "    original_flatten = original.flatten()\n",
    "    reconstructed_flatten = reconstructed.flatten()\n",
    "    return np.corrcoef(original_flatten, reconstructed_flatten)[0, 1]\n",
    "\n",
    "def calculate_snr(original, reconstructed):\n",
    "    \"\"\"Calculate Signal-to-Noise Ratio (dB)\"\"\"\n",
    "    signal_power = np.mean(original ** 2)\n",
    "    noise_power = np.mean((original - reconstructed) ** 2)\n",
    "    return 10 * np.log10(signal_power / (noise_power + 1e-8))\n",
    "\n",
    "# Calculate overall metrics\n",
    "print(\"Comparison between z50 and z100:\")\n",
    "print(\"MSE  :\", calculate_mse(z50, z100))\n",
    "print(\"NMSE :\", calculate_nmse(z50, z100))\n",
    "print(\"PCC  :\", calculate_pcc(z100, z50))\n",
    "print(\"SNR  :\", calculate_snr(z100, z50), \"dB\")"
   ]
  },
  {
   "cell_type": "code",
   "execution_count": null,
   "id": "b5f8375a",
   "metadata": {
    "vscode": {
     "languageId": "plaintext"
    }
   },
   "outputs": [],
   "source": [
    "# Visualize all channels for the first sample\n",
    "N, C, L = z100.shape  # Get dimensions: samples, channels, time points\n",
    "\n",
    "# Create a figure for each channel\n",
    "for channel_index in range(C):\n",
    "    plt.figure(figsize=(14, 3))  # Create a new figure\n",
    "    \n",
    "    # Plot z100 and z50 values for this channel\n",
    "    plt.plot(z100[0, channel_index], label='z100 (original)')\n",
    "    plt.plot(z50[0, channel_index], label='z50 (masked)')\n",
    "    \n",
    "    # Add title and labels\n",
    "    plt.title(f'Channel {channel_index} - First Sample')\n",
    "    plt.xlabel('Time Points')\n",
    "    plt.ylabel('Signal Value')\n",
    "    plt.legend()\n",
    "    \n",
    "    plt.tight_layout()  # Improve spacing\n",
    "    plt.show()  # Display the plot"
   ]
  }
 ],
 "metadata": {
  "language_info": {
   "name": "python"
  }
 },
 "nbformat": 4,
 "nbformat_minor": 5
}
